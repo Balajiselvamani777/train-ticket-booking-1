{
  "nbformat": 4,
  "nbformat_minor": 0,
  "metadata": {
    "colab": {
      "name": "login task 1.ipynb",
      "provenance": [],
      "authorship_tag": "ABX9TyPOPgwyhfG1lhFnRIMLnVjI",
      "include_colab_link": true
    },
    "kernelspec": {
      "name": "python3",
      "display_name": "Python 3"
    },
    "language_info": {
      "name": "python"
    }
  },
  "cells": [
    {
      "cell_type": "markdown",
      "metadata": {
        "id": "view-in-github",
        "colab_type": "text"
      },
      "source": [
        "<a href=\"https://colab.research.google.com/github/Balajiselvamani777/train-ticket-booking-1/blob/main/login_task_1.ipynb\" target=\"_parent\"><img src=\"https://colab.research.google.com/assets/colab-badge.svg\" alt=\"Open In Colab\"/></a>"
      ]
    },
    {
      "cell_type": "code",
      "execution_count": 31,
      "metadata": {
        "colab": {
          "base_uri": "https://localhost:8080/"
        },
        "id": "E-5_AAo3CEko",
        "outputId": "0ee15e15-b4a7-4626-a007-55b5424f895b"
      },
      "outputs": [
        {
          "output_type": "stream",
          "name": "stdout",
          "text": [
            "enter email/username: balaji@gmail.com\n",
            "balaji@gmail.com\n",
            "enter your password: balaji\n",
            "enter Re-type password: balaji\n",
            "registration is succesful.\n",
            "enter email/username:balaji@gmail.com\n",
            "balaji@gmail.com\n",
            "enter your password:balaji\n",
            "login successfully.\n"
          ]
        },
        {
          "output_type": "execute_result",
          "data": {
            "text/plain": [
              "True"
            ]
          },
          "metadata": {},
          "execution_count": 31
        }
      ],
      "source": [
        "import csv\n",
        "def register():\n",
        "  with open(\"user.csv\",mode=\"a\", newline=\"\") as f:\n",
        "      writer = csv.writer(f,delimiter=\",\")\n",
        "      email = input(\"enter email/username: \")\n",
        "      if email.find(\"@\")!=-1:\n",
        "        print(email)\n",
        "      else:\n",
        "        print(\"invalid email.\")\n",
        "\n",
        "  \n",
        "      password = input(\"enter your password: \")\n",
        "      password2 = input(\"enter Re-type password: \")   \n",
        "      if password == password2:\n",
        "      \n",
        "          writer.writerow([email,password])\n",
        "          print(\"registration is succesful.\")\n",
        "\n",
        "      else:\n",
        "        print(\"wrong password.\")\n",
        "      \n",
        "    \n",
        "def login():\n",
        "    email = input(\"enter email/username:\")\n",
        "    if email.find(\"@\")!=-1:\n",
        "        print(email)\n",
        "    else:\n",
        "        print(\"invalid email.\")\n",
        "\n",
        "  \n",
        "    password = input(\"enter your password:\")\n",
        "    with open(\"user.csv\", mode=\"r\") as f:\n",
        "         reader = csv.reader(f, delimiter=\",\")\n",
        "         for row in reader:\n",
        "             if row ==[email,password]:\n",
        "                 print(\"login successfully.\")\n",
        "                 return True\n",
        "    print(\"please try again!.\")\n",
        "    return False\n",
        "\n",
        "\n",
        "register()\n",
        "login()\n",
        "\n"
      ]
    },
    {
      "cell_type": "code",
      "source": [
        ""
      ],
      "metadata": {
        "id": "r0oTYc7HX6La"
      },
      "execution_count": null,
      "outputs": []
    },
    {
      "cell_type": "code",
      "source": [
        ""
      ],
      "metadata": {
        "id": "FAFSysdiX6FU"
      },
      "execution_count": null,
      "outputs": []
    }
  ]
}